{
 "cells": [
  {
   "cell_type": "markdown",
   "metadata": {},
   "source": [
    "Starting with guidance from Dan's notebook (http://dan.iel.fm/posts/exopop/), let's try to expand the occurrence model to a third dimension (dilution)."
   ]
  },
  {
   "cell_type": "code",
   "execution_count": 1,
   "metadata": {
    "collapsed": true
   },
   "outputs": [],
   "source": [
    "from __future__ import division, print_function\n",
    "import os\n",
    "import requests\n",
    "import pandas as pd\n",
    "from cStringIO import StringIO\n",
    "\n",
    "def get_catalog(name, basepath=\"data\"):\n",
    "    fn = os.path.join(basepath, \"{0}.h5\".format(name))\n",
    "    if os.path.exists(fn):\n",
    "        return pd.read_hdf(fn, name)\n",
    "    if not os.path.exists(basepath):\n",
    "        os.makedirs(basepath)\n",
    "    print(\"Downloading {0}...\".format(name))\n",
    "    url = (\"http://exoplanetarchive.ipac.caltech.edu/cgi-bin/nstedAPI/\"\n",
    "           \"nph-nstedAPI?table={0}&select=*\").format(name)\n",
    "    r = requests.get(url)\n",
    "    if r.status_code != requests.codes.ok:\n",
    "        r.raise_for_status()\n",
    "    fh = StringIO(r.content)\n",
    "    df = pd.read_csv(fh)\n",
    "    df.to_hdf(fn, name, format=\"t\")\n",
    "    return df"
   ]
  },
  {
   "cell_type": "code",
   "execution_count": 6,
   "metadata": {
    "collapsed": false
   },
   "outputs": [],
   "source": [
    "stlr = get_catalog('q1_q17_dr24_stellar')"
   ]
  },
  {
   "cell_type": "code",
   "execution_count": 7,
   "metadata": {
    "collapsed": false
   },
   "outputs": [],
   "source": [
    "kois = get_catalog('q1_q17_dr24_koi')"
   ]
  },
  {
   "cell_type": "markdown",
   "metadata": {},
   "source": [
    "OK, for any given star, we want to calculate the detection efficiency as a function of $P$, $R_p$, **and** a dilution factor $f_d$.  Let's define $f_d$ as the fraction of light in the aperture that does *not* belong to the target star.  This, the true radius of a planet $R_p$ is \n",
    "\n",
    "$$\\frac{R_{p,0}}{\\sqrt{1 - f_d}}$$\n",
    "\n",
    "where $R_{p,0}$ is the planet \"radius\" assuming no dilution.  Thus, if a "
   ]
  },
  {
   "cell_type": "code",
   "execution_count": null,
   "metadata": {
    "collapsed": true
   },
   "outputs": [],
   "source": []
  }
 ],
 "metadata": {
  "kernelspec": {
   "display_name": "Python 2",
   "language": "python",
   "name": "python2"
  },
  "language_info": {
   "codemirror_mode": {
    "name": "ipython",
    "version": 2
   },
   "file_extension": ".py",
   "mimetype": "text/x-python",
   "name": "python",
   "nbconvert_exporter": "python",
   "pygments_lexer": "ipython2",
   "version": "2.7.10"
  }
 },
 "nbformat": 4,
 "nbformat_minor": 0
}
